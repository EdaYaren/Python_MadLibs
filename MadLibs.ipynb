{
  "nbformat": 4,
  "nbformat_minor": 0,
  "metadata": {
    "colab": {
      "provenance": []
    },
    "kernelspec": {
      "name": "python3",
      "display_name": "Python 3"
    },
    "language_info": {
      "name": "python"
    }
  },
  "cells": [
    {
      "cell_type": "markdown",
      "source": [
        "# **MAD LIBS OYUNU**"
      ],
      "metadata": {
        "id": "S6gcjA8Q11Mb"
      }
    },
    {
      "cell_type": "code",
      "execution_count": 18,
      "metadata": {
        "id": "SkpdsbCM1lJE"
      },
      "outputs": [],
      "source": [
        "def MadLibs():\n",
        "    while True:\n",
        "        print(\"MAD LIBS\\n\")\n",
        "        adjectives = input(\"Lütfen dört adet sıfatı virgül ile ayırarak giriniz: \").split(\",\")\n",
        "\n",
        "        # Girilen ifadelerin sayısı kontrol edilir.\n",
        "        if len(adjectives) != 4:\n",
        "            print(\"Lütfen yalnızca dört adet sıfat giriniz!\")\n",
        "            continue  # Eğer yeterli sayıda sıfat yoksa döngüyü başa sar.\n",
        "\n",
        "        names = input(\"Lütfen üç adet isimi virgül ile ayırarak giriniz: \").split(\",\")\n",
        "        if len(names) != 3:\n",
        "            print(\"Lütfen yalnızca üç adet isim giriniz!\")\n",
        "            continue\n",
        "\n",
        "        emotions = input(\"Lütfen iki adet duygu ifadesini virgül ile ayırarak giriniz: \").split(\",\")\n",
        "        if len(emotions) != 2:\n",
        "            print(\"Lütfen yalnızca iki adet duygu giriniz!\")\n",
        "            continue\n",
        "\n",
        "        numbers = input(\"Lütfen iki adet sayıyı virgül ile ayırarak giriniz: \").split(\",\")\n",
        "        if len(numbers) != 2:\n",
        "            print(\"Lütfen yalnızca iki adet sayı giriniz!\")\n",
        "            continue\n",
        "\n",
        "        verbs = input(\"Lütfen iki adet fiili virgül ile ayırarak giriniz: \").split(\",\")\n",
        "        if len(verbs) != 2:\n",
        "            print(\"Lütfen yalnızca iki adet fiil giriniz!\")\n",
        "            continue\n",
        "\n",
        "        animal = input(\"Lütfen bir adet hayvan ismi giriniz: \")\n",
        "        food = input(\"Lütfen bir adet yiyecek ismi giriniz: \")\n",
        "        drink = input(\"Lütfen bir adet içecek ismi giriniz: \")\n",
        "\n",
        "        adjective1, adjective2, adjective3, adjective4 = adjectives\n",
        "        name1, name2, name3 = names\n",
        "        emotion1, emotion2 = emotions\n",
        "        number1, number2 = numbers\n",
        "        verb1, verb2 = verbs\n",
        "\n",
        "        # Hikaye oluşturulur.\n",
        "        story = (\n",
        "            f\"Bugün {adjective1} bir gün! {name1} ve ben, büyük bir macera yaşamak için eğlence parkına gitmeye karar verdik. \"\n",
        "            f\"Parka vardığımızda ilk gördüğümüz şey, devasa bir {name2} oldu. O kadar {adjective2} görünüyordu ki ikimiz de hemen binmeye karar verdik.\\n\"\n",
        "            f\"İlk başta biraz {emotion1} hissettik ama hızlanınca {number1} defa çığlık attık! \"\n",
        "            f\"Daha sonra sıra en sevdiğimiz oyuncağa geldi: {verb1} makinesi. Bu makine tam anlamıyla {adjective3} idi \"\n",
        "            f\"ve {number2} saniye boyunca bizi döndürdü. Yanımızda oturan bir {animal} bile bizle birlikte çığlık attı.\\n\"\n",
        "            f\"Sonra biraz atıştırmak istedik ve {food} aldık. {drink} içeceğini döktüm, ama {name3} aldırış etmedi. \"\n",
        "            f\"Günümüz çok {adjective4} geçti ve biz {emotion2} bir şekilde eve döndük. \"\n",
        "            f\"Eğlence parkında {verb2} yapmak her zaman unutulmaz oluyor!\"\n",
        "        )\n",
        "\n",
        "        # Kullanıcıdan alınan girdiler metin ile birleştirilir.\n",
        "        print(\"\\nOluşturulan hikaye:\")\n",
        "        print(story)\n",
        "\n",
        "        # Yeniden oynama seçeneği eklenir.\n",
        "        new_game = input(\"Tekrar oynamak ister misiniz? (Evet/Hayır): \").lower()\n",
        "        if new_game == 'hayır':\n",
        "          print(\"Oynadığınız için teşekkürler!\")\n",
        "          break"
      ]
    },
    {
      "cell_type": "code",
      "source": [
        "# Oyunu başlatmak için:\n",
        "MadLibs()"
      ],
      "metadata": {
        "colab": {
          "base_uri": "https://localhost:8080/"
        },
        "id": "qV5AfWa1KHrz",
        "outputId": "7f200602-265b-4986-c8a4-4fb7787ea76a"
      },
      "execution_count": 20,
      "outputs": [
        {
          "output_type": "stream",
          "name": "stdout",
          "text": [
            "MAD LIBS\n",
            "\n",
            "Lütfen dört adet sıfatı virgül ile ayırarak giriniz: tembel, çirkin, sevimli, güzel\n",
            "Lütfen üç adet isimi virgül ile ayırarak giriniz: zeynep, cino, ali\n",
            "Lütfen iki adet duygu ifadesini virgül ile ayırarak giriniz: mutlu, kırgın\n",
            "Lütfen iki adet sayıyı virgül ile ayırarak giriniz: 33, 46\n",
            "Lütfen iki adet fiili virgül ile ayırarak giriniz: zıplamak, gülmek\n",
            "Lütfen bir adet hayvan ismi giriniz: koala\n",
            "Lütfen bir adet yiyecek ismi giriniz: tost\n",
            "Lütfen bir adet içecek ismi giriniz: ayran\n",
            "\n",
            "Oluşturulan hikaye:\n",
            "Bugün tembel bir gün! zeynep ve ben, büyük bir macera yaşamak için eğlence parkına gitmeye karar verdik. Parka vardığımızda ilk gördüğümüz şey, devasa bir  cino oldu. O kadar  çirkin görünüyordu ki ikimiz de hemen binmeye karar verdik.\n",
            "İlk başta biraz mutlu hissettik ama hızlanınca 33 defa çığlık attık! Daha sonra sıra en sevdiğimiz oyuncağa geldi: zıplamak makinesi. Bu makine tam anlamıyla  sevimli idi ve  46 saniye boyunca bizi döndürdü. Yanımızda oturan bir koala bile bizle birlikte çığlık attı.\n",
            "Sonra biraz atıştırmak istedik ve tost aldık. ayran içeceğini döktüm, ama  ali aldırış etmedi. Günümüz çok  güzel geçti ve biz  kırgın bir şekilde eve döndük. Eğlence parkında  gülmek yapmak her zaman unutulmaz oluyor!\n",
            "Tekrar oynamak ister misiniz? (Evet/Hayır): hayır\n",
            "Oynadığınız için teşekkürler!\n"
          ]
        }
      ]
    }
  ]
}